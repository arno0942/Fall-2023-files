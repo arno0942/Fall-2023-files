{
  "cells": [
    {
      "cell_type": "markdown",
      "metadata": {},
      "source": [
        "# Monday, September 11\n",
        "## Announcements and Reminders\n",
        "- Chapter 5 Reading due today, but definitely by Wednesday\n",
        "- Programming Assignment 2: Available soon, due next Monday\n",
        "\n",
        "## Questions:"
      ]
    },
    {
      "cell_type": "markdown",
      "metadata": {},
      "source": []
    },
    {
      "cell_type": "markdown",
      "metadata": {
        "id": "rPcP5eWXAO1Y"
      },
      "source": [
        "## Activity: Turtles, Geometry, and Fractals\n",
        "\n",
        "We will continue using the python turtle to get visual feedback on how functions work.\n",
        "\n",
        "Our goal for today is to produce shapes like the following, without writing hundreds of lines of code.\n"
      ]
    },
    {
      "cell_type": "markdown",
      "metadata": {},
      "source": [
        "<!-- ![Spiral](spiral.png) -->\n",
        "<div>\n",
        "<img src=\"spiral.png\" width=\"800\"/>\n",
        "</div>"
      ]
    },
    {
      "cell_type": "markdown",
      "metadata": {
        "id": "u4mMqfI6ueCr"
      },
      "source": [
        "**Important**: I have found a better turtle module called `ColabTurtlePlus` that is easer to use than the `ipyturtle3` we were using last time.  \n",
        "\n",
        "Before you start executing any code, run the following command in the terminal:\n",
        "\n",
        "`pip install ColabTurtlePlus`\n",
        "\n",
        "Or, just execute the following cell in the notebook:"
      ]
    },
    {
      "cell_type": "code",
      "execution_count": 4,
      "metadata": {},
      "outputs": [
        {
          "name": "stdout",
          "output_type": "stream",
          "text": [
            "Requirement already satisfied: ColabTurtlePlus in /usr/local/python/3.10.8/lib/python3.10/site-packages (2.0.1)\n"
          ]
        }
      ],
      "source": [
        "!pip install ColabTurtlePlus"
      ]
    },
    {
      "cell_type": "markdown",
      "metadata": {},
      "source": [
        "We will create a turtle and screen to use throughout the activity.  Let's call our turtle \"Tracy\" this time.  Because clearly that is the best name for a turtle.  \n"
      ]
    },
    {
      "cell_type": "code",
      "execution_count": 3,
      "metadata": {},
      "outputs": [
        {
          "data": {
            "text/html": [
              "\n",
              "      <svg width=\"800\" height=\"600\">  \n",
              "        <rect width=\"100%\" height=\"100%\" style=\"fill:rgb(10,0,40);stroke:;stroke-width:1\"/>\n",
              "        \n",
              "        \n",
              "        \n",
              "        \n",
              "        \n",
              "        <g id=\"turtle\" visibility=\"visible\" transform=\"rotate(90,400.0,300.0) translate(400.0, 300.0)\">\n",
              "<path style=\"stroke:orange;fill-rule:evenodd;fill:orange;fill-opacity:1;\" transform=\"skewX(0) scale(1,1)\" d=\"m 1.1536693,-18.56101 c -2.105469,1.167969 -3.203125,3.441407 -3.140625,6.5 l 0.011719,0.519532 -0.300782,-0.15625 c -1.308594,-0.671875 -2.828125,-0.824219 -4.378906,-0.429688 -1.9375,0.484375 -3.8906253,2.089844 -6.0117193,4.9257825 -1.332031,1.785156 -1.714843,2.644531 -1.351562,3.035156 l 0.113281,0.125 h 0.363281 c 0.71875,0 1.308594,-0.265625 4.6679693,-2.113282 1.199219,-0.660156 2.183594,-1.199218 2.191406,-1.199218 0.00781,0 -0.023437,0.089844 -0.074218,0.195312 -0.472657,1.058594 -1.046876,2.785156 -1.335938,4.042969 -1.054688,4.574219 -0.351562,8.453125 2.101562,11.582031 0.28125,0.355469 0.292969,0.253906 -0.097656,0.722656 -2.046875,2.4609375 -3.027344,4.8984375 -2.734375,6.8046875 0.050781,0.339844 0.042969,0.335938 0.679688,0.335938 2.023437,0 4.15625,-1.316407 6.21875,-3.835938 0.222656,-0.269531 0.191406,-0.261719 0.425781,-0.113281 0.730469,0.46875 2.460938,1.390625 2.613281,1.390625 0.160157,0 1.765625,-0.753906 2.652344,-1.246094 0.167969,-0.09375 0.308594,-0.164062 0.308594,-0.160156 0.066406,0.105468 0.761719,0.855468 1.085937,1.171875 1.613282,1.570312 3.339844,2.402343 5.3593747,2.570312 0.324219,0.02734 0.355469,0.0078 0.425781,-0.316406 0.375,-1.742187 -0.382812,-4.058594 -2.1445307,-6.5585935 l -0.320312,-0.457031 0.15625,-0.183594 c 3.2460927,-3.824218 3.4335927,-9.08593704 0.558593,-15.816406 l -0.050781,-0.125 1.7382807,0.859375 c 3.585938,1.773437 4.371094,2.097656 5.085938,2.097656 0.945312,0 0.75,-0.863281 -0.558594,-2.507812 C 11.458356,-11.838353 8.3333563,-13.268041 4.8607003,-11.721166 l -0.363281,0.164063 0.019531,-0.09375 c 0.121094,-0.550781 0.183594,-1.800781 0.121094,-2.378907 -0.203125,-1.867187 -1.035157,-3.199218 -2.695313,-4.308593 -0.523437,-0.351563 -0.546875,-0.355469 -0.789062,-0.222657\" />\n",
              "</g>\n",
              "      </svg>\n",
              "    "
            ],
            "text/plain": [
              "<IPython.core.display.HTML object>"
            ]
          },
          "metadata": {},
          "output_type": "display_data"
        }
      ],
      "source": [
        "from ColabTurtlePlus.Turtle import *\n",
        "# Every time we want to have a new screen, we will use the following commands to create a new screen and a new turtle object:\n",
        "# Name the screen and turtle objects:\n",
        "clearscreen()\n",
        "Sandbox = Screen()\n",
        "Tracy = Turtle()\n",
        "# Set properties for Sandbox and Tracy\n",
        "Sandbox.bgcolor(10, 0, 40)\n",
        "Tracy.shape(\"turtle\")\n",
        "Tracy.color(\"orange\")"
      ]
    },
    {
      "cell_type": "markdown",
      "metadata": {},
      "source": [
        "Now let's draw a square.  First, the slow way:"
      ]
    },
    {
      "cell_type": "code",
      "execution_count": 2,
      "metadata": {},
      "outputs": [
        {
          "data": {
            "text/html": [
              "\n",
              "      <svg width=\"800\" height=\"600\">  \n",
              "        <rect width=\"100%\" height=\"100%\" style=\"fill:rgb(10,0,40);stroke:;stroke-width:1\"/>\n",
              "        \n",
              "        \n",
              "        \n",
              "        \n",
              "        \n",
              "        <g id=\"turtle\" visibility=\"visible\" transform=\"rotate(90,400.0,300.0) translate(400.0, 300.0)\">\n",
              "<path style=\"stroke:orange;fill-rule:evenodd;fill:orange;fill-opacity:1;\" transform=\"skewX(0) scale(1,1)\" d=\"m 1.1536693,-18.56101 c -2.105469,1.167969 -3.203125,3.441407 -3.140625,6.5 l 0.011719,0.519532 -0.300782,-0.15625 c -1.308594,-0.671875 -2.828125,-0.824219 -4.378906,-0.429688 -1.9375,0.484375 -3.8906253,2.089844 -6.0117193,4.9257825 -1.332031,1.785156 -1.714843,2.644531 -1.351562,3.035156 l 0.113281,0.125 h 0.363281 c 0.71875,0 1.308594,-0.265625 4.6679693,-2.113282 1.199219,-0.660156 2.183594,-1.199218 2.191406,-1.199218 0.00781,0 -0.023437,0.089844 -0.074218,0.195312 -0.472657,1.058594 -1.046876,2.785156 -1.335938,4.042969 -1.054688,4.574219 -0.351562,8.453125 2.101562,11.582031 0.28125,0.355469 0.292969,0.253906 -0.097656,0.722656 -2.046875,2.4609375 -3.027344,4.8984375 -2.734375,6.8046875 0.050781,0.339844 0.042969,0.335938 0.679688,0.335938 2.023437,0 4.15625,-1.316407 6.21875,-3.835938 0.222656,-0.269531 0.191406,-0.261719 0.425781,-0.113281 0.730469,0.46875 2.460938,1.390625 2.613281,1.390625 0.160157,0 1.765625,-0.753906 2.652344,-1.246094 0.167969,-0.09375 0.308594,-0.164062 0.308594,-0.160156 0.066406,0.105468 0.761719,0.855468 1.085937,1.171875 1.613282,1.570312 3.339844,2.402343 5.3593747,2.570312 0.324219,0.02734 0.355469,0.0078 0.425781,-0.316406 0.375,-1.742187 -0.382812,-4.058594 -2.1445307,-6.5585935 l -0.320312,-0.457031 0.15625,-0.183594 c 3.2460927,-3.824218 3.4335927,-9.08593704 0.558593,-15.816406 l -0.050781,-0.125 1.7382807,0.859375 c 3.585938,1.773437 4.371094,2.097656 5.085938,2.097656 0.945312,0 0.75,-0.863281 -0.558594,-2.507812 C 11.458356,-11.838353 8.3333563,-13.268041 4.8607003,-11.721166 l -0.363281,0.164063 0.019531,-0.09375 c 0.121094,-0.550781 0.183594,-1.800781 0.121094,-2.378907 -0.203125,-1.867187 -1.035157,-3.199218 -2.695313,-4.308593 -0.523437,-0.351563 -0.546875,-0.355469 -0.789062,-0.222657\" />\n",
              "</g>\n",
              "      </svg>\n",
              "    "
            ],
            "text/plain": [
              "<IPython.core.display.HTML object>"
            ]
          },
          "metadata": {},
          "output_type": "display_data"
        },
        {
          "ename": "AttributeError",
          "evalue": "'Turtle' object has no attribute 'foward'",
          "output_type": "error",
          "traceback": [
            "\u001b[0;31m---------------------------------------------------------------------------\u001b[0m",
            "\u001b[0;31mAttributeError\u001b[0m                            Traceback (most recent call last)",
            "\u001b[1;32m/workspaces/Fall-2023-files/ClassActivities/Week04/1-Monday.ipynb Cell 10\u001b[0m line \u001b[0;36m1\n\u001b[1;32m     <a href='vscode-notebook-cell://codespaces%2Bcurly-telegram-69gw9rrvpgw5hxxrg/workspaces/Fall-2023-files/ClassActivities/Week04/1-Monday.ipynb#X12sdnNjb2RlLXJlbW90ZQ%3D%3D?line=13'>14</a>\u001b[0m     \u001b[39mif\u001b[39;00m Tracy\u001b[39m.\u001b[39mposition() \u001b[39m!=\u001b[39m (\u001b[39m0.0\u001b[39m, \u001b[39m0.0\u001b[39m):\n\u001b[1;32m     <a href='vscode-notebook-cell://codespaces%2Bcurly-telegram-69gw9rrvpgw5hxxrg/workspaces/Fall-2023-files/ClassActivities/Week04/1-Monday.ipynb#X12sdnNjb2RlLXJlbW90ZQ%3D%3D?line=14'>15</a>\u001b[0m         walk_turn\n\u001b[0;32m---> <a href='vscode-notebook-cell://codespaces%2Bcurly-telegram-69gw9rrvpgw5hxxrg/workspaces/Fall-2023-files/ClassActivities/Week04/1-Monday.ipynb#X12sdnNjb2RlLXJlbW90ZQ%3D%3D?line=16'>17</a>\u001b[0m walk_turn()\n",
            "\u001b[1;32m/workspaces/Fall-2023-files/ClassActivities/Week04/1-Monday.ipynb Cell 10\u001b[0m line \u001b[0;36m1\n\u001b[1;32m     <a href='vscode-notebook-cell://codespaces%2Bcurly-telegram-69gw9rrvpgw5hxxrg/workspaces/Fall-2023-files/ClassActivities/Week04/1-Monday.ipynb#X12sdnNjb2RlLXJlbW90ZQ%3D%3D?line=9'>10</a>\u001b[0m \u001b[39mdef\u001b[39;00m \u001b[39mwalk_turn\u001b[39m():\n\u001b[0;32m---> <a href='vscode-notebook-cell://codespaces%2Bcurly-telegram-69gw9rrvpgw5hxxrg/workspaces/Fall-2023-files/ClassActivities/Week04/1-Monday.ipynb#X12sdnNjb2RlLXJlbW90ZQ%3D%3D?line=10'>11</a>\u001b[0m     Tracy\u001b[39m.\u001b[39;49mfoward(\u001b[39m100\u001b[39m)\n\u001b[1;32m     <a href='vscode-notebook-cell://codespaces%2Bcurly-telegram-69gw9rrvpgw5hxxrg/workspaces/Fall-2023-files/ClassActivities/Week04/1-Monday.ipynb#X12sdnNjb2RlLXJlbW90ZQ%3D%3D?line=11'>12</a>\u001b[0m     Tracy\u001b[39m.\u001b[39mleft(\u001b[39m90\u001b[39m)\n\u001b[1;32m     <a href='vscode-notebook-cell://codespaces%2Bcurly-telegram-69gw9rrvpgw5hxxrg/workspaces/Fall-2023-files/ClassActivities/Week04/1-Monday.ipynb#X12sdnNjb2RlLXJlbW90ZQ%3D%3D?line=12'>13</a>\u001b[0m     \u001b[39mprint\u001b[39m(Tracy\u001b[39m.\u001b[39mcoordinates())\n",
            "\u001b[0;31mAttributeError\u001b[0m: 'Turtle' object has no attribute 'foward'"
          ]
        }
      ],
      "source": [
        "### SETUP ###\n",
        "clearscreen()\n",
        "Sandbox = Screen()\n",
        "Tracy = Turtle()\n",
        "Sandbox.bgcolor(10, 0, 40)\n",
        "Tracy.shape(\"turtle\")\n",
        "Tracy.color(\"orange\")\n",
        "### END SETUP ###\n",
        "\n",
        "def walk_turn():\n",
        "    Tracy.foward(100)\n",
        "    Tracy.left(90)\n",
        "    print(Tracy.coordinates())\n",
        "    if Tracy.position() != (0.0, 0.0):\n",
        "        walk_turn\n",
        "    \n",
        "walk_turn()\n"
      ]
    },
    {
      "cell_type": "markdown",
      "metadata": {},
      "source": [
        "Now try to modify the code above to draw the square using a function to avoid repeating as many identical lines of code.  Maybe define a function that combines the forward and turn steps.\n",
        "\n",
        "**Note**: If you know what they are, you might be tempted to use *loops* to make this simpler.  Hold that thought.  The goal of this activity is to use functions instead of loops."
      ]
    },
    {
      "cell_type": "markdown",
      "metadata": {},
      "source": [
        "### Recursion to the rescue\n",
        "\n",
        "Can we do even better?  A function tells Tracy what to do.  Can the function tell Tracy what to do next as well?  Try telling Tracy to walk, turn, and repeat."
      ]
    },
    {
      "cell_type": "markdown",
      "metadata": {},
      "source": [
        "### Polygons\n",
        "\n",
        "The code above should be able to draw shapes other than squares.  How could you tell it to draw an octagon?\n",
        "\n",
        "Actually, why don't we just write a function `polygon(sides, size)` that draws a polygon with `sides` sides each of size `size`:"
      ]
    },
    {
      "cell_type": "code",
      "execution_count": 4,
      "metadata": {},
      "outputs": [
        {
          "data": {
            "text/html": [
              "\n",
              "      <svg width=\"800\" height=\"600\">  \n",
              "        <rect width=\"100%\" height=\"100%\" style=\"fill:rgb(10,20,20);stroke:;stroke-width:1\"/>\n",
              "        \n",
              "        \n",
              "        <line x1=\"400.0\" y1=\"300.0\" x2=\"475.0\" y2=\"300.0\" stroke-linecap=\"round\" style=\"stroke:orange;stroke-width:1\" /><line x1=\"475.0\" y1=\"300.0\" x2=\"528.033\" y2=\"246.967\" stroke-linecap=\"round\" style=\"stroke:orange;stroke-width:1\" /><line x1=\"528.033\" y1=\"246.967\" x2=\"528.033\" y2=\"171.967\" stroke-linecap=\"round\" style=\"stroke:orange;stroke-width:1\" /><line x1=\"528.033\" y1=\"171.967\" x2=\"475.0\" y2=\"118.934\" stroke-linecap=\"round\" style=\"stroke:orange;stroke-width:1\" /><line x1=\"475.0\" y1=\"118.934\" x2=\"400.0\" y2=\"118.934\" stroke-linecap=\"round\" style=\"stroke:orange;stroke-width:1\" /><line x1=\"400.0\" y1=\"118.934\" x2=\"346.967\" y2=\"171.967\" stroke-linecap=\"round\" style=\"stroke:orange;stroke-width:1\" /><line x1=\"346.967\" y1=\"171.967\" x2=\"346.967\" y2=\"246.967\" stroke-linecap=\"round\" style=\"stroke:orange;stroke-width:1\" /><line x1=\"346.967\" y1=\"246.967\" x2=\"400.0\" y2=\"300.0\" stroke-linecap=\"round\" style=\"stroke:orange;stroke-width:1\" /><line x1=\"400.0\" y1=\"300.0\" x2=\"475.0\" y2=\"300.0\" stroke-linecap=\"round\" style=\"stroke:orange;stroke-width:1\" /><line x1=\"475.0\" y1=\"300.0\" x2=\"528.033\" y2=\"246.967\" stroke-linecap=\"round\" style=\"stroke:orange;stroke-width:1\" /><line x1=\"528.033\" y1=\"246.967\" x2=\"528.033\" y2=\"171.967\" stroke-linecap=\"round\" style=\"stroke:orange;stroke-width:1\" /><line x1=\"528.033\" y1=\"171.967\" x2=\"475.0\" y2=\"118.934\" stroke-linecap=\"round\" style=\"stroke:orange;stroke-width:1\" /><line x1=\"475.0\" y1=\"118.934\" x2=\"400.0\" y2=\"118.934\" stroke-linecap=\"round\" style=\"stroke:orange;stroke-width:1\" /><line x1=\"400.0\" y1=\"118.934\" x2=\"346.967\" y2=\"171.967\" stroke-linecap=\"round\" style=\"stroke:orange;stroke-width:1\" /><line x1=\"346.967\" y1=\"171.967\" x2=\"346.967\" y2=\"246.967\" stroke-linecap=\"round\" style=\"stroke:orange;stroke-width:1\" /><line x1=\"346.967\" y1=\"246.967\" x2=\"400.0\" y2=\"300.0\" stroke-linecap=\"round\" style=\"stroke:orange;stroke-width:1\" /><line x1=\"400.0\" y1=\"300.0\" x2=\"475.0\" y2=\"300.0\" stroke-linecap=\"round\" style=\"stroke:orange;stroke-width:1\" /><line x1=\"475.0\" y1=\"300.0\" x2=\"528.033\" y2=\"246.967\" stroke-linecap=\"round\" style=\"stroke:orange;stroke-width:1\" /><line x1=\"528.033\" y1=\"246.967\" x2=\"528.033\" y2=\"171.967\" stroke-linecap=\"round\" style=\"stroke:orange;stroke-width:1\" /><line x1=\"528.033\" y1=\"171.967\" x2=\"475.0\" y2=\"118.934\" stroke-linecap=\"round\" style=\"stroke:orange;stroke-width:1\" /><line x1=\"475.0\" y1=\"118.934\" x2=\"465.0\" y2=\"118.934\" stroke-linecap=\"round\" style=\"stroke:orange;stroke-width:1\" /><line x1=\"465.0\" y1=\"118.934\" x2=\"455.0\" y2=\"118.934\" stroke-linecap=\"round\" style=\"stroke:orange;stroke-width:1\" /><line x1=\"455.0\" y1=\"118.934\" x2=\"445.0\" y2=\"118.934\" stroke-linecap=\"round\" style=\"stroke:orange;stroke-width:1\" /><line x1=\"445.0\" y1=\"118.934\" x2=\"435.0\" y2=\"118.934\" stroke-linecap=\"round\" style=\"stroke:orange;stroke-width:1\" /><line x1=\"435.0\" y1=\"118.934\" x2=\"425.0\" y2=\"118.934\" stroke-linecap=\"round\" style=\"stroke:orange;stroke-width:1\" /><line x1=\"425.0\" y1=\"118.934\" x2=\"415.0\" y2=\"118.934\" stroke-linecap=\"round\" style=\"stroke:orange;stroke-width:1\" />\n",
              "        \n",
              "        \n",
              "        <g id=\"turtle\" visibility=\"visible\" transform=\"rotate(270.0,415.0,118.934) translate(415.0, 118.934)\">\n",
              "<path style=\"stroke:orange;fill-rule:evenodd;fill:orange;fill-opacity:1;\" transform=\"skewX(0) scale(1,1)\" d=\"m 1.1536693,-18.56101 c -2.105469,1.167969 -3.203125,3.441407 -3.140625,6.5 l 0.011719,0.519532 -0.300782,-0.15625 c -1.308594,-0.671875 -2.828125,-0.824219 -4.378906,-0.429688 -1.9375,0.484375 -3.8906253,2.089844 -6.0117193,4.9257825 -1.332031,1.785156 -1.714843,2.644531 -1.351562,3.035156 l 0.113281,0.125 h 0.363281 c 0.71875,0 1.308594,-0.265625 4.6679693,-2.113282 1.199219,-0.660156 2.183594,-1.199218 2.191406,-1.199218 0.00781,0 -0.023437,0.089844 -0.074218,0.195312 -0.472657,1.058594 -1.046876,2.785156 -1.335938,4.042969 -1.054688,4.574219 -0.351562,8.453125 2.101562,11.582031 0.28125,0.355469 0.292969,0.253906 -0.097656,0.722656 -2.046875,2.4609375 -3.027344,4.8984375 -2.734375,6.8046875 0.050781,0.339844 0.042969,0.335938 0.679688,0.335938 2.023437,0 4.15625,-1.316407 6.21875,-3.835938 0.222656,-0.269531 0.191406,-0.261719 0.425781,-0.113281 0.730469,0.46875 2.460938,1.390625 2.613281,1.390625 0.160157,0 1.765625,-0.753906 2.652344,-1.246094 0.167969,-0.09375 0.308594,-0.164062 0.308594,-0.160156 0.066406,0.105468 0.761719,0.855468 1.085937,1.171875 1.613282,1.570312 3.339844,2.402343 5.3593747,2.570312 0.324219,0.02734 0.355469,0.0078 0.425781,-0.316406 0.375,-1.742187 -0.382812,-4.058594 -2.1445307,-6.5585935 l -0.320312,-0.457031 0.15625,-0.183594 c 3.2460927,-3.824218 3.4335927,-9.08593704 0.558593,-15.816406 l -0.050781,-0.125 1.7382807,0.859375 c 3.585938,1.773437 4.371094,2.097656 5.085938,2.097656 0.945312,0 0.75,-0.863281 -0.558594,-2.507812 C 11.458356,-11.838353 8.3333563,-13.268041 4.8607003,-11.721166 l -0.363281,0.164063 0.019531,-0.09375 c 0.121094,-0.550781 0.183594,-1.800781 0.121094,-2.378907 -0.203125,-1.867187 -1.035157,-3.199218 -2.695313,-4.308593 -0.523437,-0.351563 -0.546875,-0.355469 -0.789062,-0.222657\" />\n",
              "</g>\n",
              "      </svg>\n",
              "    "
            ],
            "text/plain": [
              "<IPython.core.display.HTML object>"
            ]
          },
          "metadata": {},
          "output_type": "display_data"
        },
        {
          "name": "stdout",
          "output_type": "stream",
          "text": [
            "1\n",
            "2\n",
            "3\n",
            "4\n",
            "5\n",
            "6\n",
            "7\n",
            "8\n",
            "9\n",
            "10\n",
            "11\n",
            "12\n",
            "13\n",
            "14\n",
            "15\n",
            "16\n",
            "17\n",
            "18\n",
            "19\n",
            "20\n",
            "21\n"
          ]
        },
        {
          "ename": "KeyboardInterrupt",
          "evalue": "",
          "output_type": "error",
          "traceback": [
            "\u001b[0;31m---------------------------------------------------------------------------\u001b[0m",
            "\u001b[0;31mKeyboardInterrupt\u001b[0m                         Traceback (most recent call last)",
            "\u001b[1;32m/workspaces/Fall-2023-files/ClassActivities/Week04/1-Monday.ipynb Cell 14\u001b[0m line \u001b[0;36m2\n\u001b[1;32m     <a href='vscode-notebook-cell://codespaces%2Bcurly-telegram-69gw9rrvpgw5hxxrg/workspaces/Fall-2023-files/ClassActivities/Week04/1-Monday.ipynb#X16sdnNjb2RlLXJlbW90ZQ%3D%3D?line=15'>16</a>\u001b[0m     polygon(sides, size, counter\u001b[39m+\u001b[39m\u001b[39m1\u001b[39m)\n\u001b[1;32m     <a href='vscode-notebook-cell://codespaces%2Bcurly-telegram-69gw9rrvpgw5hxxrg/workspaces/Fall-2023-files/ClassActivities/Week04/1-Monday.ipynb#X16sdnNjb2RlLXJlbW90ZQ%3D%3D?line=18'>19</a>\u001b[0m   \u001b[39m#Fill in the function\u001b[39;00m\n\u001b[1;32m     <a href='vscode-notebook-cell://codespaces%2Bcurly-telegram-69gw9rrvpgw5hxxrg/workspaces/Fall-2023-files/ClassActivities/Week04/1-Monday.ipynb#X16sdnNjb2RlLXJlbW90ZQ%3D%3D?line=19'>20</a>\u001b[0m \n\u001b[1;32m     <a href='vscode-notebook-cell://codespaces%2Bcurly-telegram-69gw9rrvpgw5hxxrg/workspaces/Fall-2023-files/ClassActivities/Week04/1-Monday.ipynb#X16sdnNjb2RlLXJlbW90ZQ%3D%3D?line=20'>21</a>\u001b[0m \u001b[39m#Call the function\u001b[39;00m\n\u001b[0;32m---> <a href='vscode-notebook-cell://codespaces%2Bcurly-telegram-69gw9rrvpgw5hxxrg/workspaces/Fall-2023-files/ClassActivities/Week04/1-Monday.ipynb#X16sdnNjb2RlLXJlbW90ZQ%3D%3D?line=21'>22</a>\u001b[0m polygon(\u001b[39m8\u001b[39;49m, \u001b[39m75\u001b[39;49m)\n",
            "\u001b[1;32m/workspaces/Fall-2023-files/ClassActivities/Week04/1-Monday.ipynb Cell 14\u001b[0m line \u001b[0;36m1\n\u001b[1;32m     <a href='vscode-notebook-cell://codespaces%2Bcurly-telegram-69gw9rrvpgw5hxxrg/workspaces/Fall-2023-files/ClassActivities/Week04/1-Monday.ipynb#X16sdnNjb2RlLXJlbW90ZQ%3D%3D?line=12'>13</a>\u001b[0m Tracy\u001b[39m.\u001b[39mleft(\u001b[39m360\u001b[39m\u001b[39m/\u001b[39msides)\n\u001b[1;32m     <a href='vscode-notebook-cell://codespaces%2Bcurly-telegram-69gw9rrvpgw5hxxrg/workspaces/Fall-2023-files/ClassActivities/Week04/1-Monday.ipynb#X16sdnNjb2RlLXJlbW90ZQ%3D%3D?line=13'>14</a>\u001b[0m \u001b[39mif\u001b[39;00m Tracy\u001b[39m.\u001b[39mposition \u001b[39m!=\u001b[39m (\u001b[39m0.0\u001b[39m, \u001b[39m0.0\u001b[39m):\n\u001b[0;32m---> <a href='vscode-notebook-cell://codespaces%2Bcurly-telegram-69gw9rrvpgw5hxxrg/workspaces/Fall-2023-files/ClassActivities/Week04/1-Monday.ipynb#X16sdnNjb2RlLXJlbW90ZQ%3D%3D?line=15'>16</a>\u001b[0m   polygon(sides, size, counter\u001b[39m+\u001b[39;49m\u001b[39m1\u001b[39;49m)\n",
            "\u001b[1;32m/workspaces/Fall-2023-files/ClassActivities/Week04/1-Monday.ipynb Cell 14\u001b[0m line \u001b[0;36m1\n\u001b[1;32m     <a href='vscode-notebook-cell://codespaces%2Bcurly-telegram-69gw9rrvpgw5hxxrg/workspaces/Fall-2023-files/ClassActivities/Week04/1-Monday.ipynb#X16sdnNjb2RlLXJlbW90ZQ%3D%3D?line=12'>13</a>\u001b[0m Tracy\u001b[39m.\u001b[39mleft(\u001b[39m360\u001b[39m\u001b[39m/\u001b[39msides)\n\u001b[1;32m     <a href='vscode-notebook-cell://codespaces%2Bcurly-telegram-69gw9rrvpgw5hxxrg/workspaces/Fall-2023-files/ClassActivities/Week04/1-Monday.ipynb#X16sdnNjb2RlLXJlbW90ZQ%3D%3D?line=13'>14</a>\u001b[0m \u001b[39mif\u001b[39;00m Tracy\u001b[39m.\u001b[39mposition \u001b[39m!=\u001b[39m (\u001b[39m0.0\u001b[39m, \u001b[39m0.0\u001b[39m):\n\u001b[0;32m---> <a href='vscode-notebook-cell://codespaces%2Bcurly-telegram-69gw9rrvpgw5hxxrg/workspaces/Fall-2023-files/ClassActivities/Week04/1-Monday.ipynb#X16sdnNjb2RlLXJlbW90ZQ%3D%3D?line=15'>16</a>\u001b[0m   polygon(sides, size, counter\u001b[39m+\u001b[39;49m\u001b[39m1\u001b[39;49m)\n",
            "    \u001b[0;31m[... skipping similar frames: polygon at line 16 (17 times)]\u001b[0m\n",
            "\u001b[1;32m/workspaces/Fall-2023-files/ClassActivities/Week04/1-Monday.ipynb Cell 14\u001b[0m line \u001b[0;36m1\n\u001b[1;32m     <a href='vscode-notebook-cell://codespaces%2Bcurly-telegram-69gw9rrvpgw5hxxrg/workspaces/Fall-2023-files/ClassActivities/Week04/1-Monday.ipynb#X16sdnNjb2RlLXJlbW90ZQ%3D%3D?line=12'>13</a>\u001b[0m Tracy\u001b[39m.\u001b[39mleft(\u001b[39m360\u001b[39m\u001b[39m/\u001b[39msides)\n\u001b[1;32m     <a href='vscode-notebook-cell://codespaces%2Bcurly-telegram-69gw9rrvpgw5hxxrg/workspaces/Fall-2023-files/ClassActivities/Week04/1-Monday.ipynb#X16sdnNjb2RlLXJlbW90ZQ%3D%3D?line=13'>14</a>\u001b[0m \u001b[39mif\u001b[39;00m Tracy\u001b[39m.\u001b[39mposition \u001b[39m!=\u001b[39m (\u001b[39m0.0\u001b[39m, \u001b[39m0.0\u001b[39m):\n\u001b[0;32m---> <a href='vscode-notebook-cell://codespaces%2Bcurly-telegram-69gw9rrvpgw5hxxrg/workspaces/Fall-2023-files/ClassActivities/Week04/1-Monday.ipynb#X16sdnNjb2RlLXJlbW90ZQ%3D%3D?line=15'>16</a>\u001b[0m   polygon(sides, size, counter\u001b[39m+\u001b[39;49m\u001b[39m1\u001b[39;49m)\n",
            "\u001b[1;32m/workspaces/Fall-2023-files/ClassActivities/Week04/1-Monday.ipynb Cell 14\u001b[0m line \u001b[0;36m1\n\u001b[1;32m     <a href='vscode-notebook-cell://codespaces%2Bcurly-telegram-69gw9rrvpgw5hxxrg/workspaces/Fall-2023-files/ClassActivities/Week04/1-Monday.ipynb#X16sdnNjb2RlLXJlbW90ZQ%3D%3D?line=9'>10</a>\u001b[0m \u001b[39mdef\u001b[39;00m \u001b[39mpolygon\u001b[39m(sides, size, counter\u001b[39m=\u001b[39m\u001b[39m1\u001b[39m):\n\u001b[1;32m     <a href='vscode-notebook-cell://codespaces%2Bcurly-telegram-69gw9rrvpgw5hxxrg/workspaces/Fall-2023-files/ClassActivities/Week04/1-Monday.ipynb#X16sdnNjb2RlLXJlbW90ZQ%3D%3D?line=10'>11</a>\u001b[0m   \u001b[39mprint\u001b[39m(counter)\n\u001b[0;32m---> <a href='vscode-notebook-cell://codespaces%2Bcurly-telegram-69gw9rrvpgw5hxxrg/workspaces/Fall-2023-files/ClassActivities/Week04/1-Monday.ipynb#X16sdnNjb2RlLXJlbW90ZQ%3D%3D?line=11'>12</a>\u001b[0m   Tracy\u001b[39m.\u001b[39;49mforward(size)\n\u001b[1;32m     <a href='vscode-notebook-cell://codespaces%2Bcurly-telegram-69gw9rrvpgw5hxxrg/workspaces/Fall-2023-files/ClassActivities/Week04/1-Monday.ipynb#X16sdnNjb2RlLXJlbW90ZQ%3D%3D?line=12'>13</a>\u001b[0m   Tracy\u001b[39m.\u001b[39mleft(\u001b[39m360\u001b[39m\u001b[39m/\u001b[39msides)\n\u001b[1;32m     <a href='vscode-notebook-cell://codespaces%2Bcurly-telegram-69gw9rrvpgw5hxxrg/workspaces/Fall-2023-files/ClassActivities/Week04/1-Monday.ipynb#X16sdnNjb2RlLXJlbW90ZQ%3D%3D?line=13'>14</a>\u001b[0m   \u001b[39mif\u001b[39;00m Tracy\u001b[39m.\u001b[39mposition \u001b[39m!=\u001b[39m (\u001b[39m0.0\u001b[39m, \u001b[39m0.0\u001b[39m):\n",
            "File \u001b[0;32m~/.python/current/lib/python3.10/site-packages/ColabTurtlePlus/Turtle.py:862\u001b[0m, in \u001b[0;36mRawTurtle.forward\u001b[0;34m(self, units)\u001b[0m\n\u001b[1;32m    860\u001b[0m alpha \u001b[39m=\u001b[39m math\u001b[39m.\u001b[39mradians(\u001b[39mself\u001b[39m\u001b[39m.\u001b[39mturtle_degree)\n\u001b[1;32m    861\u001b[0m new_pos \u001b[39m=\u001b[39m (\u001b[39mself\u001b[39m\u001b[39m.\u001b[39mturtle_pos[\u001b[39m0\u001b[39m] \u001b[39m+\u001b[39m units \u001b[39m*\u001b[39m \u001b[39mself\u001b[39m\u001b[39m.\u001b[39mscreen\u001b[39m.\u001b[39mxscale \u001b[39m*\u001b[39m math\u001b[39m.\u001b[39mcos(alpha), \u001b[39mself\u001b[39m\u001b[39m.\u001b[39mturtle_pos[\u001b[39m1\u001b[39m] \u001b[39m+\u001b[39m units \u001b[39m*\u001b[39m \u001b[39mabs\u001b[39m(\u001b[39mself\u001b[39m\u001b[39m.\u001b[39mscreen\u001b[39m.\u001b[39myscale) \u001b[39m*\u001b[39m math\u001b[39m.\u001b[39msin(alpha))\n\u001b[0;32m--> 862\u001b[0m \u001b[39mself\u001b[39;49m\u001b[39m.\u001b[39;49mscreen\u001b[39m.\u001b[39;49m_moveToNewPosition(new_pos,units, turtle\u001b[39m=\u001b[39;49m\u001b[39mself\u001b[39;49m)\n",
            "File \u001b[0;32m~/.python/current/lib/python3.10/site-packages/ColabTurtlePlus/Turtle.py:364\u001b[0m, in \u001b[0;36m_Screen._moveToNewPosition\u001b[0;34m(self, new_pos, units, turtle)\u001b[0m\n\u001b[1;32m    355\u001b[0m             turtle\u001b[39m.\u001b[39msvg_lines_string \u001b[39m+\u001b[39m\u001b[39m=\u001b[39m \\\n\u001b[1;32m    356\u001b[0m \u001b[39m            \u001b[39m\u001b[39m\"\"\"<line x1=\"{x1}\" y1=\"{y1}\" x2=\"{x2}\" y2=\"{y2}\" stroke-linecap=\"round\" style=\"stroke:{pcolor};stroke-width:{pwidth}\" />\"\"\"\u001b[39;00m\u001b[39m.\u001b[39mformat(\n\u001b[1;32m    357\u001b[0m                 x1\u001b[39m=\u001b[39minitial_pos[\u001b[39m0\u001b[39m],\n\u001b[0;32m   (...)\u001b[0m\n\u001b[1;32m    361\u001b[0m                 pcolor\u001b[39m=\u001b[39mturtle\u001b[39m.\u001b[39mpen_color, \n\u001b[1;32m    362\u001b[0m                 pwidth\u001b[39m=\u001b[39mturtle\u001b[39m.\u001b[39mpen_width) \n\u001b[1;32m    363\u001b[0m         initial_pos \u001b[39m=\u001b[39m turtle\u001b[39m.\u001b[39mturtle_pos\n\u001b[0;32m--> 364\u001b[0m         \u001b[39mself\u001b[39;49m\u001b[39m.\u001b[39;49m_updateDrawing(turtle\u001b[39m=\u001b[39;49mturtle)\n\u001b[1;32m    365\u001b[0m         units \u001b[39m-\u001b[39m\u001b[39m=\u001b[39m dunits\n\u001b[1;32m    366\u001b[0m \u001b[39melse\u001b[39;00m:\n\u001b[1;32m    367\u001b[0m     \u001b[39m# world mode with aspect ratio of axes different than aspect ratio of the window\u001b[39;00m\n",
            "File \u001b[0;32m~/.python/current/lib/python3.10/site-packages/ColabTurtlePlus/Turtle.py:327\u001b[0m, in \u001b[0;36m_Screen._updateDrawing\u001b[0;34m(self, turtle, delay)\u001b[0m\n\u001b[1;32m    325\u001b[0m         \u001b[39mself\u001b[39m\u001b[39m.\u001b[39mdrawing_window\u001b[39m.\u001b[39mupdate(HTML(\u001b[39mself\u001b[39m\u001b[39m.\u001b[39m_generateSvgDrawing()))         \n\u001b[1;32m    326\u001b[0m         \u001b[39mif\u001b[39;00m delay:\n\u001b[0;32m--> 327\u001b[0m             time\u001b[39m.\u001b[39;49msleep(turtle\u001b[39m.\u001b[39;49mtimeout)\n\u001b[1;32m    328\u001b[0m \u001b[39melse\u001b[39;00m:\n\u001b[1;32m    329\u001b[0m     \u001b[39mself\u001b[39m\u001b[39m.\u001b[39mdrawing_window\u001b[39m.\u001b[39mupdate(HTML(\u001b[39mself\u001b[39m\u001b[39m.\u001b[39m_generateSvgDrawing()))\n",
            "\u001b[0;31mKeyboardInterrupt\u001b[0m: "
          ]
        }
      ],
      "source": [
        "### SETUP ###\n",
        "clearscreen()\n",
        "Sandbox = Screen()\n",
        "Tracy = Turtle()\n",
        "Sandbox.bgcolor(10, 20, 20)\n",
        "Tracy.shape(\"turtle\")\n",
        "Tracy.color(\"orange\")\n",
        "### END SETUP ###\n",
        "\n",
        "def polygon(sides, size, counter=1):\n",
        "  print(counter)\n",
        "  Tracy.forward(size)\n",
        "  Tracy.left(360/sides)\n",
        "  if Tracy.position != (0.0, 0.0):\n",
        "   \n",
        "    polygon(sides, size, counter+1)\n",
        "\n",
        "\n",
        "  #Fill in the function\n",
        "\n",
        "#Call the function\n",
        "polygon(8, 75)"
      ]
    },
    {
      "cell_type": "markdown",
      "metadata": {},
      "source": [
        "Just for fun, see what happens if you modify `sides` or `size` when you tell Tracy to \"repeat\".  Could you draw a cool spiral?"
      ]
    },
    {
      "cell_type": "code",
      "execution_count": 7,
      "metadata": {},
      "outputs": [
        {
          "data": {
            "text/html": [
              "\n",
              "      <svg width=\"800\" height=\"600\">  \n",
              "        <rect width=\"100%\" height=\"100%\" style=\"fill:rgb(30,10,0);stroke:;stroke-width:1\"/>\n",
              "        \n",
              "        \n",
              "        \n",
              "        \n",
              "        \n",
              "        <g id=\"turtle\" visibility=\"visible\" transform=\"rotate(90,400.0,300.0) translate(400.0, 300.0)\">\n",
              "<path style=\"stroke:orange;fill-rule:evenodd;fill:orange;fill-opacity:1;\" transform=\"skewX(0) scale(1,1)\" d=\"m 1.1536693,-18.56101 c -2.105469,1.167969 -3.203125,3.441407 -3.140625,6.5 l 0.011719,0.519532 -0.300782,-0.15625 c -1.308594,-0.671875 -2.828125,-0.824219 -4.378906,-0.429688 -1.9375,0.484375 -3.8906253,2.089844 -6.0117193,4.9257825 -1.332031,1.785156 -1.714843,2.644531 -1.351562,3.035156 l 0.113281,0.125 h 0.363281 c 0.71875,0 1.308594,-0.265625 4.6679693,-2.113282 1.199219,-0.660156 2.183594,-1.199218 2.191406,-1.199218 0.00781,0 -0.023437,0.089844 -0.074218,0.195312 -0.472657,1.058594 -1.046876,2.785156 -1.335938,4.042969 -1.054688,4.574219 -0.351562,8.453125 2.101562,11.582031 0.28125,0.355469 0.292969,0.253906 -0.097656,0.722656 -2.046875,2.4609375 -3.027344,4.8984375 -2.734375,6.8046875 0.050781,0.339844 0.042969,0.335938 0.679688,0.335938 2.023437,0 4.15625,-1.316407 6.21875,-3.835938 0.222656,-0.269531 0.191406,-0.261719 0.425781,-0.113281 0.730469,0.46875 2.460938,1.390625 2.613281,1.390625 0.160157,0 1.765625,-0.753906 2.652344,-1.246094 0.167969,-0.09375 0.308594,-0.164062 0.308594,-0.160156 0.066406,0.105468 0.761719,0.855468 1.085937,1.171875 1.613282,1.570312 3.339844,2.402343 5.3593747,2.570312 0.324219,0.02734 0.355469,0.0078 0.425781,-0.316406 0.375,-1.742187 -0.382812,-4.058594 -2.1445307,-6.5585935 l -0.320312,-0.457031 0.15625,-0.183594 c 3.2460927,-3.824218 3.4335927,-9.08593704 0.558593,-15.816406 l -0.050781,-0.125 1.7382807,0.859375 c 3.585938,1.773437 4.371094,2.097656 5.085938,2.097656 0.945312,0 0.75,-0.863281 -0.558594,-2.507812 C 11.458356,-11.838353 8.3333563,-13.268041 4.8607003,-11.721166 l -0.363281,0.164063 0.019531,-0.09375 c 0.121094,-0.550781 0.183594,-1.800781 0.121094,-2.378907 -0.203125,-1.867187 -1.035157,-3.199218 -2.695313,-4.308593 -0.523437,-0.351563 -0.546875,-0.355469 -0.789062,-0.222657\" />\n",
              "</g>\n",
              "      </svg>\n",
              "    "
            ],
            "text/plain": [
              "<IPython.core.display.HTML object>"
            ]
          },
          "metadata": {},
          "output_type": "display_data"
        }
      ],
      "source": [
        "### SETUP ###\n",
        "clearscreen()\n",
        "Sandbox = Screen()\n",
        "Tracy = Turtle()\n",
        "Sandbox.bgcolor(30, 10, 0)\n",
        "Tracy.shape(\"turtle\")\n",
        "Tracy.color(\"orange\")\n",
        "### END SETUP ###\n",
        "\n",
        "def spiral():\n",
        "  pass\n",
        "  #Fill in the function\n",
        "\n",
        "#Call the function\n",
        "spiral()"
      ]
    },
    {
      "cell_type": "markdown",
      "metadata": {},
      "source": [
        "### Fractals!\n",
        "\n",
        "Try executing the code below:"
      ]
    },
    {
      "cell_type": "code",
      "execution_count": 10,
      "metadata": {},
      "outputs": [
        {
          "data": {
            "text/html": [
              "\n",
              "      <svg width=\"800\" height=\"600\">  \n",
              "        <rect width=\"100%\" height=\"100%\" style=\"fill:rgb(14,81,53);stroke:;stroke-width:1\"/>\n",
              "        \n",
              "        \n",
              "        \n",
              "        \n",
              "        \n",
              "        <g id=\"triangle\" visibility=\"visible\" transform=\"rotate(-90,400.0,300.0) translate(400.0, 300.0)\">\n",
              "<polygon points=\"10,-8.66 0,8.66 -10,-8.66\" transform=\"skewX(0) scale(1,1)\" style=\"stroke:black;fill:black;stroke-width:1\" />\n",
              "</g>\n",
              "      </svg>\n",
              "    "
            ],
            "text/plain": [
              "<IPython.core.display.HTML object>"
            ]
          },
          "metadata": {},
          "output_type": "display_data"
        }
      ],
      "source": [
        "### SETUP ###\n",
        "clearscreen()\n",
        "Sandbox = Screen()\n",
        "Tracy = Turtle()\n",
        "Sandbox.bgcolor(14,81,53)\n",
        "Tracy.shape(\"triangle\")\n",
        "Tracy.color(212,206,70)\n",
        "### END SETUP ###\n",
        "\n",
        "Tracy.speed(100)\n",
        "def triangle(sidelength, sidecount=0):\n",
        "  if sidecount < 3:\n",
        "    Tracy.pendown()\n",
        "    Tracy.forward(sidelength)\n",
        "    Tracy.left(120)\n",
        "    triangle(sidelength, sidecount+1)\n",
        "\n",
        "def triforce(size,depth,counter=0):\n",
        "  if counter < depth:\n",
        "    triforce(size/2, depth, counter+1)\n",
        "    Tracy.penup()\n",
        "    Tracy.forward(size*2)\n",
        "    Tracy.left(120)\n",
        "    triforce(size/2, depth, counter+1)\n",
        "    Tracy.penup()\n",
        "    Tracy.forward(size*2)\n",
        "    Tracy.left(120)\n",
        "    triforce(size/2, depth, counter+1)\n",
        "    Tracy.penup()\n",
        "    Tracy.forward(size*2)\n",
        "    Tracy.left(120)\n",
        "  else:\n",
        "    triangle(size*2)\n",
        "\n",
        "\n",
        "#change start position to center image\n",
        "Tracy.penup()\n",
        "Tracy.goto(-150,-100)\n",
        "triforce(150,5)"
      ]
    },
    {
      "cell_type": "markdown",
      "metadata": {},
      "source": [
        "Part of what makes the code above complicated is that we are calling the function recursively three times inside itself. To see what is going on better, let's look at one that only calls itself once each time through."
      ]
    },
    {
      "cell_type": "code",
      "execution_count": null,
      "metadata": {},
      "outputs": [],
      "source": [
        "### SETUP ###\n",
        "clearscreen()\n",
        "Sandbox = Screen()\n",
        "Tracy = Turtle()\n",
        "Sandbox.bgcolor(0, 0, 0)\n",
        "Tracy.shape(\"turtle\")\n",
        "Tracy.color(\"pink\")\n",
        "### END SETUP ###\n",
        "\n",
        "Tracy.speed(10)\n",
        "def circles(size, depth, counter=0):\n",
        "  if counter < depth:\n",
        "    circles(0.5*size, depth, counter+1)\n",
        "    # \"stamp\" so we can see where the circle starts\n",
        "    # Tracy.stamp()\n",
        "    # Move start to a quarter way around a circle\n",
        "    Tracy.circle(size,90)\n",
        "    # Draw a circle\n",
        "    Tracy.circle(size)\n",
        "\n",
        "\n",
        "circles(200,5)"
      ]
    },
    {
      "cell_type": "markdown",
      "metadata": {},
      "source": [
        "## What's next?  \n",
        "\n",
        "Let's add a little color.  Can we write a function that colors the sides of a polygon with three colors, repeating in sequence?  How can we control that?"
      ]
    }
  ],
  "metadata": {
    "colab": {
      "include_colab_link": true,
      "provenance": []
    },
    "kernelspec": {
      "display_name": "Python 3",
      "name": "python3"
    },
    "language_info": {
      "codemirror_mode": {
        "name": "ipython",
        "version": 3
      },
      "file_extension": ".py",
      "mimetype": "text/x-python",
      "name": "python",
      "nbconvert_exporter": "python",
      "pygments_lexer": "ipython3",
      "version": "3.10.8"
    }
  },
  "nbformat": 4,
  "nbformat_minor": 0
}
