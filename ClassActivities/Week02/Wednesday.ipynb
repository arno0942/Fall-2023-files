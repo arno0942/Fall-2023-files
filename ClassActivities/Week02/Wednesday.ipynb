{
  "cells": [
    {
      "cell_type": "markdown",
      "metadata": {
        "id": "NYiRI0CLDVQQ"
      },
      "source": [
        "# Wednesday, August 30\n",
        "We will continue working on the activity from last class; you can update your codespace in the usual way if you want to start fresh in this notebook, but other than the announcements, there is no difference between this and Monday's.\n",
        "\n",
        "#### Announcements\n",
        "- Reading for Chapter 3 was due before class.  Catch up ASAP if you haven't done this.\n",
        "- *Programming Assignment 1* is now available on Canvas.  Due next Wednesday at 11:59pm.\n",
        "- There will be a **quiz** covering chapter 2 at the start of class on Friday.\n"
      ]
    },
    {
      "cell_type": "markdown",
      "metadata": {},
      "source": [
        "### Questions?"
      ]
    },
    {
      "cell_type": "markdown",
      "metadata": {
        "id": "hLj-dXhKD0Tb"
      },
      "source": [
        "## Today's Activity: A very depressing calculator (again)\n",
        "\n",
        "In chapter 2, you read about expressions, variables (and their types), and operations.  Today, we will put those into practice by writing a python program to calculate how much time you have left.\n",
        "\n",
        "More specifically, we will create a python script that asks the \"user\" for their birthday and a target age.  The script will then calculate the number of days or weeks or etc until the user reaches that age."
      ]
    },
    {
      "cell_type": "markdown",
      "metadata": {},
      "source": [
        "### Problem specification\n",
        "\n",
        "Before jumping into writing code, we should specify exactly what we want our program to do.  What requirements do we have?\n",
        "\n",
        "First pass: do everything in years.\n",
        "\n",
        "1. Ask user for name\n",
        "2. Ask user for birthday\n",
        "3. Ask for their target age\n",
        "4. Ask for the current day\n",
        "5. Calculate how many years until they will be that age.\n",
        "   1. First calculate their current age\n",
        "   2. Then subtract.\n",
        "6. Print out a message telling the user how long until they are that age."
      ]
    },
    {
      "cell_type": "markdown",
      "metadata": {},
      "source": [
        "### Building requirements, one at a time\n",
        "\n",
        "Now let's start coding.  But take it slow.  We want to make sure that we can complete each requirement.  As we go, we will test that each requirement is met. \n",
        "\n",
        "Start with requirement 1 above.  What code can we write that does that step?"
      ]
    },
    {
      "cell_type": "code",
      "execution_count": 33,
      "metadata": {},
      "outputs": [
        {
          "name": "stdout",
          "output_type": "stream",
          "text": [
            "Hi there! Bryce\n",
            "Your birth year is 2005\n",
            "You're target age is 80\n",
            "You are 18 years old\n",
            "You have 62 years until you are 80 years old\n"
          ]
        }
      ],
      "source": [
        "name = input(\"Hi What's your name?\")\n",
        "print(f\"Hi there, {name}\")\n",
        "birth_year = input(\"What year were you born?\")\n",
        "print(f\"Your birth year is {birth_year}\")\n",
        "target_age = input(\"what is your target age?\")\n",
        "print(f\"You're target age is {target_age}\")\n",
        "current_year = input(\"What is the current year?\")\n",
        "x = current_year\n",
        "y = birth_year\n",
        "current_age = int(x) - int(y)\n",
        "print(f\"You are {current_age} years old\")\n",
        "z = target_age \n",
        "a = current_age\n",
        "until_target_age = int(z) - int(a)\n",
        "print(f\"You have {until_target_age} years until you are {target_age} years old\")\n",
        "\n",
        "\n",
        "\n",
        "\n",
        "\n"
      ]
    },
    {
      "cell_type": "markdown",
      "metadata": {},
      "source": [
        "### Keep going\n",
        "\n",
        "Now iterate this process.  Working in the code above, start adding functionality to your program, making sure that each thing you add is added correctly.\n",
        "\n",
        "You might discover that you should ask the user to enter information in a different format to make your life easier.  Make good choices.\n",
        "\n",
        "This is a good opportunity to write comments in your code to help keep it organized.  Remember, comments start with the `#` character."
      ]
    },
    {
      "cell_type": "markdown",
      "metadata": {},
      "source": []
    }
  ],
  "metadata": {
    "colab": {
      "provenance": []
    },
    "kernelspec": {
      "display_name": "Python 3",
      "name": "python3"
    },
    "language_info": {
      "codemirror_mode": {
        "name": "ipython",
        "version": 3
      },
      "file_extension": ".py",
      "mimetype": "text/x-python",
      "name": "python",
      "nbconvert_exporter": "python",
      "pygments_lexer": "ipython3",
      "version": "3.10.8"
    }
  },
  "nbformat": 4,
  "nbformat_minor": 0
}
