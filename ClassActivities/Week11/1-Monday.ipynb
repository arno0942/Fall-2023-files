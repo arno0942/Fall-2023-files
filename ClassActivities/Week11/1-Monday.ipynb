{
  "cells": [
    {
      "cell_type": "markdown",
      "metadata": {},
      "source": [
        "# Monday, October 30\n",
        "\n",
        "## Announcements and Reminders\n",
        "\n",
        "- Read Chapter 11 (due Wednesday)\n",
        "- Next Project Check-in: Friday\n",
        "- Programming Assignment 5: Next Friday (but start NOW)\n"
      ]
    },
    {
      "cell_type": "markdown",
      "metadata": {},
      "source": [
        "## Activity: Sorting a Database\n",
        "\n",
        "Let's continue with our movie database project.  The code below will read in the `csv` file, create a giant list of dictionaries, where each one is a movie.  We will call this list `moviedb`."
      ]
    },
    {
      "cell_type": "code",
      "execution_count": 1,
      "metadata": {},
      "outputs": [],
      "source": [
        "import csv\n",
        "\n",
        "# Open the file\n",
        "with open('../Week10/imdb.csv', 'r') as f:\n",
        "  # Use the csv library to read the data\n",
        "  data = list(csv.reader(f))\n",
        "\n",
        "# Since data[0] contains the column headers, we can use those to create a dictionary for each movie where the keys are the column headers, and the values are the corresponding entries for that movie.  Then add each movie to the list `moviedb`\n",
        "moviedb = []\n",
        "for row in range(1,len(data)):\n",
        "  movie = {}\n",
        "  for col in range(len(data[0])):\n",
        "    movie[data[0][col]] = data[row][col]\n",
        "\n",
        "  moviedb.append(movie)"
      ]
    },
    {
      "cell_type": "markdown",
      "metadata": {},
      "source": [
        "Print out a few individual movies:"
      ]
    },
    {
      "cell_type": "code",
      "execution_count": 2,
      "metadata": {},
      "outputs": [
        {
          "name": "stdout",
          "output_type": "stream",
          "text": [
            "{'Title': 'Superbabies: Baby Geniuses 2', 'Year': '2004', 'Rated': 'PG', 'Released': '27 Aug 2004', 'Runtime': '88 min', 'Genre': 'Comedy, Family, Sci-Fi', 'Director': 'Bob Clark', 'Writer': 'Steven Paul (story), Gregory Poppen (screenplay)', 'Actors': 'Jon Voight, Scott Baio, Vanessa Angel, Skyler Shaye', 'Plot': \"A group of smart-talking toddlers find themselves at the center of a media mogul's experiment to crack the code to baby talk. The toddlers must race against time for the sake of babies everywhere.\", 'Language': 'English', 'Country': 'Germany, UK, USA', 'Awards': '13 nominations.', 'Poster': 'https://images-na.ssl-images-amazon.com/images/M/MV5BNjY4NjM3MjQ2OF5BMl5BanBnXkFtZTcwOTc3NzYyMQ@@._V1_SX300.jpg', 'Ratings.Source': 'Internet Movie Database', 'Ratings.Value': '2.0/10', 'Metascore': '9', 'imdbRating': '2.0', 'imdbVotes': '26,376', 'imdbID': 'tt0270846', 'Type': 'movie', 'DVD': '04 Jan 2005', 'BoxOffice': '$9,016,422', 'Production': 'Sony', 'Website': 'http://www.sonypictures.com/movies/superbabiesbabygeniuses2/index.html', 'Response': 'True', 'tomatoURL': 'http://www.rottentomatoes.com/m/super_babies_baby_geniuses_2/'}\n",
            "{'Title': 'Tin Can Man', 'Year': '2007', 'Rated': 'N/A', 'Released': '01 Mar 2012', 'Runtime': '83 min', 'Genre': 'Horror', 'Director': 'Ivan Kavanagh', 'Writer': 'Ivan Kavanagh', 'Actors': \"Patrick O'Donnell, Michael Parle, Emma Eliza Regan, Kreeta Taponen\", 'Plot': 'Recently dumped by his girlfriend for another man, working in a job he hates, things could be better for Peter. One night, while he is alone in his apartment, there is a knock at the door. His life will never be the same again.', 'Language': 'English', 'Country': 'Ireland', 'Awards': '2 wins.', 'Poster': 'https://images-na.ssl-images-amazon.com/images/M/MV5BMTM5NTU4Njk5M15BMl5BanBnXkFtZTcwNTA4ODE0Nw@@._V1_SX300.jpg', 'Ratings.Source': 'Internet Movie Database', 'Ratings.Value': '6.6/10', 'Metascore': 'N/A', 'imdbRating': '6.6', 'imdbVotes': '65', 'imdbID': 'tt1235811', 'Type': 'movie', 'DVD': '22 Apr 2014', 'BoxOffice': 'N/A', 'Production': 'MVD Entertainment Group', 'Website': 'N/A', 'Response': 'True', 'tomatoURL': 'N/A'}\n"
          ]
        }
      ],
      "source": [
        "print(moviedb[2])\n",
        "print(moviedb[-17])"
      ]
    },
    {
      "cell_type": "markdown",
      "metadata": {},
      "source": [
        "### Database operations\n",
        "\n",
        "Now we have this database; what can we do with it?  There are three natural operations: **filtering**, **sorting**, and **searching**\n",
        "\n",
        "#### Searching\n",
        "\n",
        "This is the easiest of the operations, at least if we don't care about speed.  How do we know if our database contains a movie with the word \"chess\" in the title?  Just look at each movie until you find one that has it.\n"
      ]
    },
    {
      "cell_type": "code",
      "execution_count": 4,
      "metadata": {},
      "outputs": [],
      "source": [
        "for movie in moviedb:\n",
        "    if \"Chess\" in movie['Title'].lower():\n",
        "        print(movie['Title'])\n",
        "        "
      ]
    },
    {
      "cell_type": "markdown",
      "metadata": {},
      "source": [
        "#### Filtering\n",
        "\n",
        "What if we want to limit our movies to just the horror-comedies?  This is basically just search, but instead of just finding the first one, we will collect all the \"winners\" in a new list.  Try it:"
      ]
    },
    {
      "cell_type": "code",
      "execution_count": 8,
      "metadata": {},
      "outputs": [
        {
          "name": "stdout",
          "output_type": "stream",
          "text": [
            "Bhool Bhulaiyaa has a rating of 7.3\n",
            "Dark Shadows has a rating of 6.2\n",
            "Creepshow has a rating of 6.9\n",
            "Death Becomes Her has a rating of 6.4\n",
            "Gremlins 2: The New Batch has a rating of 6.3\n",
            "Cursed has a rating of 5.0\n",
            "Arachnophobia has a rating of 6.4\n",
            "Warm Bodies has a rating of 6.9\n",
            "Fright Night has a rating of 6.4\n",
            "Eight Legged Freaks has a rating of 5.4\n",
            "Lake Placid has a rating of 5.6\n",
            "Bride of Chucky has a rating of 5.4\n",
            "Piranha 3D has a rating of 5.5\n",
            "Zombieland has a rating of 7.7\n",
            "Jennifer's Body has a rating of 5.1\n",
            "Vamps has a rating of 5.1\n",
            "Slither has a rating of 6.5\n",
            "Krampus has a rating of 6.2\n",
            "Idle Hands has a rating of 6.2\n",
            "The Host has a rating of 7.0\n",
            "Gremlins has a rating of 7.2\n",
            "Army of Darkness has a rating of 7.6\n",
            "Tremors has a rating of 7.1\n",
            "Severance has a rating of 6.5\n",
            "It's a Wonderful Afterlife has a rating of 5.4\n",
            "Detention has a rating of 5.8\n",
            "The Lost Boys has a rating of 7.3\n",
            "Club Dread has a rating of 5.6\n",
            "Fido has a rating of 6.7\n",
            "The Return of the Living Dead has a rating of 7.3\n",
            "Grabbers has a rating of 6.3\n",
            "Shaun of the Dead has a rating of 8.0\n",
            "Tucker and Dale vs Evil has a rating of 7.6\n",
            "The Cottage has a rating of 6.1\n",
            "The Texas Chainsaw Massacre 2 has a rating of 5.6\n",
            "R.L. Stine's Monsterville: The Cabinet of Souls has a rating of 5.8\n",
            "Psycho Beach Party has a rating of 6.3\n",
            "Creepshow 2 has a rating of 6.0\n",
            "Evil Dead II has a rating of 7.8\n",
            "Feast has a rating of 6.4\n",
            "Tusk has a rating of 5.4\n",
            "Hobo with a Shotgun has a rating of 6.1\n",
            "Stung has a rating of 5.0\n",
            "The Toxic Avenger Part II has a rating of 5.1\n",
            "Jack Brooks: Monster Slayer has a rating of 6.0\n",
            "Teeth has a rating of 5.4\n",
            "Stitches has a rating of 5.7\n",
            "Ed and His Dead Mother has a rating of 6.1\n",
            "A Beginner's Guide to Snuff has a rating of 7.1\n",
            "Hatchet has a rating of 5.7\n",
            "My Name Is Bruce has a rating of 6.3\n",
            "Housebound has a rating of 6.8\n",
            "Incident at Loch Ness has a rating of 6.6\n",
            "Eddie: The Sleepwalking Cannibal has a rating of 5.7\n",
            "Dracula: Pages from a Virgin's Diary has a rating of 7.0\n",
            "Bubba Ho-Tep has a rating of 7.2\n",
            "ZMD: Zombies of Mass Destruction has a rating of 5.1\n",
            "Dead Snow has a rating of 6.4\n",
            "Rubber has a rating of 5.8\n",
            "Love in the Time of Monsters has a rating of 5.5\n",
            "The Toxic Avenger has a rating of 6.2\n",
            "Poultrygeist: Night of the Chicken Dead has a rating of 6.2\n",
            "Baghead has a rating of 6.0\n",
            "Solitude has a rating of 8.1\n",
            "Sanctuary; Quite a Conundrum has a rating of 5.3\n",
            "The Lost Skeleton of Cadavra has a rating of 7.0\n",
            "Pink Flamingos has a rating of 6.1\n"
          ]
        }
      ],
      "source": [
        "filtered = []\n",
        "\n",
        "for movie in moviedb:\n",
        "    if 'horror' in movie['Genre'].lower() and 'comedy' in movie['Genre'].lower():\n",
        "        filtered.append(movie)\n",
        "        # print(movie['Title'], movie['Genre'])\n",
        "\n",
        "# print(filtered)\n",
        "\n",
        "\n",
        "\n",
        "good = []\n",
        "\n",
        "for movie in filtered:\n",
        "    if float(movie[\"imdbRating\"]) >= 5:\n",
        "        good.append(movie)\n",
        "        print(f\"{movie['Title']} has a rating of {movie['imdbRating']}\")"
      ]
    },
    {
      "cell_type": "markdown",
      "metadata": {},
      "source": [
        "#### Sorting\n",
        "What were the top 10 highest earning films on the list?  Or better yet, can we sort the entire database of movies by box office numbers?  \n",
        "\n",
        "For now, let's use the `.sort()` method for lists.  Later, we will consider what is really going on with sorting."
      ]
    },
    {
      "cell_type": "code",
      "execution_count": null,
      "metadata": {},
      "outputs": [],
      "source": [
        "sorteddb = moviedb.copy()\n",
        "\n",
        "sorteddb.sort()\n",
        "print(sorteddb[:5])"
      ]
    },
    {
      "cell_type": "markdown",
      "metadata": {},
      "source": [
        "hmm... that doesn't work.  So what can we do?  What can we sort?\n",
        "\n",
        "What does sorting even mean???  Let's first do an example by hand.\n",
        "\n",
        "In the cell below, think how you would sort the list of numbers:"
      ]
    },
    {
      "cell_type": "code",
      "execution_count": null,
      "metadata": {},
      "outputs": [],
      "source": [
        "5, 8, 3, 19, 12, 0, 100\n",
        "\n",
        "sorted:\n",
        "\n"
      ]
    },
    {
      "cell_type": "markdown",
      "metadata": {},
      "source": [
        "What else can we sort?  \n",
        "\n",
        "`int`: \n",
        "\n",
        "`float`:\n",
        "\n",
        "`bool`:\n",
        "\n",
        "`str`:\n",
        "\n",
        "`list`:\n",
        "\n",
        "`dict`:\n",
        "\n",
        "`tuple`:\n",
        "\n",
        "`set`:\n",
        "\n",
        "Try these out to determine whether they sort, and if so, in what way."
      ]
    },
    {
      "cell_type": "code",
      "execution_count": null,
      "metadata": {},
      "outputs": [],
      "source": [
        "print(3 < 2.999)\n",
        "lst = [3, 2.999, 13, 0]\n",
        "lst.sort()\n",
        "print(lst)"
      ]
    },
    {
      "cell_type": "markdown",
      "metadata": {},
      "source": [
        "### Breaking Ties\n",
        "\n",
        "It should be pretty clear how to sort numbers (be they integers or floats).  What about more complicated types, like strings and tuples?  \n",
        "\n",
        "For example, who \"wins\" between Alexander and Alexis?  Try it!"
      ]
    },
    {
      "cell_type": "code",
      "execution_count": null,
      "metadata": {},
      "outputs": [],
      "source": []
    },
    {
      "cell_type": "markdown",
      "metadata": {},
      "source": [
        "Tuples will turn out to be very useful for sorting.  Look at how the following list of tuples gets sorted."
      ]
    },
    {
      "cell_type": "code",
      "execution_count": null,
      "metadata": {},
      "outputs": [],
      "source": [
        "tupleList = [('abc',3,'1'),('a',1,'10'),('a', 2,'9'),('a', 1,'9'),('abc',30,'0')]\n",
        "tupleList.sort()\n",
        "print(tupleList)"
      ]
    },
    {
      "cell_type": "markdown",
      "metadata": {},
      "source": [
        "What is going on here?  Explain how ties are broken"
      ]
    }
  ],
  "metadata": {
    "colab": {
      "include_colab_link": true,
      "provenance": []
    },
    "kernelspec": {
      "display_name": "Python 3",
      "name": "python3"
    },
    "language_info": {
      "codemirror_mode": {
        "name": "ipython",
        "version": 3
      },
      "file_extension": ".py",
      "mimetype": "text/x-python",
      "name": "python",
      "nbconvert_exporter": "python",
      "pygments_lexer": "ipython3",
      "version": "3.10.8"
    }
  },
  "nbformat": 4,
  "nbformat_minor": 0
}
