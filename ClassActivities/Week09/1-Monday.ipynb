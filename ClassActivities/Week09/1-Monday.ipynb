{
  "cells": [
    {
      "cell_type": "markdown",
      "metadata": {},
      "source": [
        "# Monday, October 16\n",
        "\n",
        "## Announcements and Reminders\n",
        "- Read the rest of chapter 9 for Monday.\n",
        "- Task 1 for the Final Project is due Monday on Canvas.\n",
        "- Quiz on Wednesday on strings and lists.\n",
        "- Programming Assignment 4 due ~~Wednesday~~ Friday.\n",
        "- Chapter 8 and 9 exercises will be due Friday.\n"
      ]
    },
    {
      "cell_type": "markdown",
      "metadata": {},
      "source": [
        "## Activity: The more things change, the more they stay the same, unless they are lists\n",
        "\n",
        "Today we will consider how to modify iterable objects: strings, lists, and tuples. "
      ]
    },
    {
      "cell_type": "markdown",
      "metadata": {},
      "source": [
        "### Mutating strings and lists\n",
        "\n",
        "Try the following tasks:\n",
        "\n",
        "For the string and list below, write code that prints the 3rd element of the string/list."
      ]
    },
    {
      "cell_type": "code",
      "execution_count": 40,
      "metadata": {},
      "outputs": [],
      "source": [
        "s = \"Bazinga\"\n",
        "l = [\"Sheldon\", \"Leonard\", \"Penny\", \"Howard\", \"Raj\"]"
      ]
    },
    {
      "cell_type": "markdown",
      "metadata": {},
      "source": [
        "Now write code that *removes* the 3rd element in the string/list.  Print out the resulting, shorter, string/list."
      ]
    },
    {
      "cell_type": "code",
      "execution_count": 41,
      "metadata": {},
      "outputs": [
        {
          "name": "stdout",
          "output_type": "stream",
          "text": [
            "2\n",
            "Penny\n",
            "['Sheldon', 'Leonard', 'Howard', 'Raj']\n",
            "Bazinga!\n"
          ]
        }
      ],
      "source": [
        "print(l.index(\"Penny\"))\n",
        "print(l[2])\n",
        "del(l[2])\n",
        "print(l)\n"
      ]
    },
    {
      "cell_type": "code",
      "execution_count": 42,
      "metadata": {},
      "outputs": [
        {
          "name": "stdout",
          "output_type": "stream",
          "text": [
            "['Sheldon', 'Leonard', 'Penny', 'Howard', 'Raj', 'Amy']\n",
            "Bazinga!!\n"
          ]
        }
      ],
      "source": [
        "l = [\"Sheldon\", \"Leonard\", \"Penny\", \"Howard\", \"Raj\"]\n",
        "l.append(\"Amy\")\n",
        "print(l)\n",
        "s = s+\"!\"\n",
        "print(s)"
      ]
    },
    {
      "cell_type": "markdown",
      "metadata": {},
      "source": [
        "Now add the character \"!\" to the end of the string, and the name \"Amy\" to the end of the list"
      ]
    },
    {
      "cell_type": "code",
      "execution_count": 48,
      "metadata": {},
      "outputs": [
        {
          "name": "stdout",
          "output_type": "stream",
          "text": [
            "['Sheldon', 'Leonard', 'Penny', 'Howard', 'Bernadette', 'Raj']\n",
            "['Sheldon']\n"
          ]
        }
      ],
      "source": [
        "l = [\"Sheldon\", \"Leonard\", \"Penny\", \"Howard\", \"Raj\"]\n",
        "l.insert(4,\"Bernadette\")\n",
        "print(l)\n",
        "l = l[:1]+[\"Amy\"][1:]\n",
        "print(l)"
      ]
    },
    {
      "cell_type": "markdown",
      "metadata": {},
      "source": [
        "### Tuples\n",
        "\n",
        "Think of tuples as immutable lists.  We write them with parentheses: `(3,5,1)` instead of `[3,5,1]` (which is a list).  \n",
        "\n",
        "In general, the length of a tuple should be fixed (where as lists can grow and shrink).  It also usually does not make sense to *sort* a tuple, since the position in a tuple is meaningful (for example, a tuple might represent the coordinates of a point $(x,y)$).\n",
        "\n",
        "Explore tuples by executing the code below."
      ]
    },
    {
      "cell_type": "code",
      "execution_count": 52,
      "metadata": {},
      "outputs": [
        {
          "name": "stdout",
          "output_type": "stream",
          "text": [
            "3\n",
            "(3, 5, 1, 3, 5, 1)\n",
            "(3, 5, 1, 3, 5, 1, 7)\n"
          ]
        }
      ],
      "source": [
        "t = (3,5,1)\n",
        "print(t[0])\n",
        "t = t+t\n",
        "print(t)\n",
        "t = t+(7,)\n",
        "print(t)"
      ]
    },
    {
      "cell_type": "code",
      "execution_count": 49,
      "metadata": {},
      "outputs": [
        {
          "name": "stdout",
          "output_type": "stream",
          "text": [
            "(3, 5, 1, 3, 5, 1, 7, 3, 5, 1, 3, 5, 1, 7, 7, 3, 5, 1, 3, 5, 1, 7, 3, 5, 1, 3, 5, 1, 7, 7)\n",
            "(3, 5, 1, 3, 5, 1, 7, 3, 5, 1, 3, 5, 1, 7, 7, 3, 5, 1, 3, 5, 1, 7, 3, 5, 1, 3, 5, 1, 7, 7, 7)\n"
          ]
        }
      ],
      "source": [
        "t = t+t\n",
        "print(t)\n",
        "t = t+(7,)\n",
        "print(t)\n",
        "# What happens if you run this code a second time?"
      ]
    },
    {
      "cell_type": "code",
      "execution_count": 36,
      "metadata": {},
      "outputs": [
        {
          "name": "stdout",
          "output_type": "stream",
          "text": [
            "2\n",
            "6\n",
            "0\n"
          ]
        }
      ],
      "source": [
        "seq = (1,1,2,3,5,8,13,21,34,55,89)\n",
        "print(seq.count(1))\n",
        "print(seq.index(13))\n",
        "print(seq.count(20))\n",
        "# print(seq.index(20))"
      ]
    },
    {
      "cell_type": "markdown",
      "metadata": {},
      "source": [
        "How can you find the index of an element in a tuple if you don't know whether the element is in the tuple to start with?  That is, can you do something like `list.find()` but for tuples?\n",
        "The index method can find numbers in a tuple if the are in the tuple, but if they are not in the tuple then an error will appear. "
      ]
    },
    {
      "cell_type": "code",
      "execution_count": null,
      "metadata": {},
      "outputs": [],
      "source": []
    },
    {
      "cell_type": "code",
      "execution_count": 10,
      "metadata": {},
      "outputs": [
        {
          "ename": "TypeError",
          "evalue": "str.lower() takes no arguments (1 given)",
          "output_type": "error",
          "traceback": [
            "\u001b[0;31m---------------------------------------------------------------------------\u001b[0m",
            "\u001b[0;31mTypeError\u001b[0m                                 Traceback (most recent call last)",
            "\u001b[1;32m/workspaces/Fall-2023-files/ClassActivities/Week09/1-Monday.ipynb Cell 16\u001b[0m line \u001b[0;36m4\n\u001b[1;32m      <a href='vscode-notebook-cell://codespaces%2Bverbose-disco-pjr9jgg76777265j4/workspaces/Fall-2023-files/ClassActivities/Week09/1-Monday.ipynb#X21sdnNjb2RlLXJlbW90ZQ%3D%3D?line=1'>2</a>\u001b[0m get_letter \u001b[39m=\u001b[39m \u001b[39minput\u001b[39m(\u001b[39m\"\u001b[39m\u001b[39mWhat letters do you have?\u001b[39m\u001b[39m\"\u001b[39m)\n\u001b[1;32m      <a href='vscode-notebook-cell://codespaces%2Bverbose-disco-pjr9jgg76777265j4/workspaces/Fall-2023-files/ClassActivities/Week09/1-Monday.ipynb#X21sdnNjb2RlLXJlbW90ZQ%3D%3D?line=2'>3</a>\u001b[0m a \u001b[39m=\u001b[39m get_letter\n\u001b[0;32m----> <a href='vscode-notebook-cell://codespaces%2Bverbose-disco-pjr9jgg76777265j4/workspaces/Fall-2023-files/ClassActivities/Week09/1-Monday.ipynb#X21sdnNjb2RlLXJlbW90ZQ%3D%3D?line=3'>4</a>\u001b[0m get_letter\u001b[39m.\u001b[39;49mlower(a)\n\u001b[1;32m      <a href='vscode-notebook-cell://codespaces%2Bverbose-disco-pjr9jgg76777265j4/workspaces/Fall-2023-files/ClassActivities/Week09/1-Monday.ipynb#X21sdnNjb2RlLXJlbW90ZQ%3D%3D?line=4'>5</a>\u001b[0m letter\u001b[39m.\u001b[39mappend(get_letter)\n\u001b[1;32m      <a href='vscode-notebook-cell://codespaces%2Bverbose-disco-pjr9jgg76777265j4/workspaces/Fall-2023-files/ClassActivities/Week09/1-Monday.ipynb#X21sdnNjb2RlLXJlbW90ZQ%3D%3D?line=5'>6</a>\u001b[0m \u001b[39mprint\u001b[39m(letter)\n",
            "\u001b[0;31mTypeError\u001b[0m: str.lower() takes no arguments (1 given)"
          ]
        }
      ],
      "source": [
        "letter = []\n",
        "get_letter = input(\"What letters do you have?\")\n",
        "a = get_letter\n",
        "get_letter.lower(a)\n",
        "letter.append(get_letter)\n",
        "print(letter)\n",
        "\n",
        "# lowercase_letter = []\n",
        "# letter.lower(letter)\n",
        "# lowercase_letter.append(letter)\n"
      ]
    },
    {
      "cell_type": "code",
      "execution_count": null,
      "metadata": {},
      "outputs": [],
      "source": []
    },
    {
      "cell_type": "code",
      "execution_count": null,
      "metadata": {},
      "outputs": [],
      "source": []
    }
  ],
  "metadata": {
    "colab": {
      "include_colab_link": true,
      "provenance": []
    },
    "kernelspec": {
      "display_name": "Python 3",
      "name": "python3"
    },
    "language_info": {
      "codemirror_mode": {
        "name": "ipython",
        "version": 3
      },
      "file_extension": ".py",
      "mimetype": "text/x-python",
      "name": "python",
      "nbconvert_exporter": "python",
      "pygments_lexer": "ipython3",
      "version": "3.10.8"
    }
  },
  "nbformat": 4,
  "nbformat_minor": 0
}
